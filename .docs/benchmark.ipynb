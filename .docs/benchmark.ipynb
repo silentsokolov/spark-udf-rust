{
 "cells": [
  {
   "cell_type": "code",
   "execution_count": 1,
   "id": "important-munich",
   "metadata": {},
   "outputs": [],
   "source": [
    "from pyspark import SparkContext, SparkConf\n",
    "from pyspark.sql import SparkSession\n",
    "from pyspark.sql import functions as f\n",
    "from pyspark.sql import types as t"
   ]
  },
  {
   "cell_type": "code",
   "execution_count": 2,
   "id": "opposite-farmer",
   "metadata": {},
   "outputs": [],
   "source": [
    "conf = SparkConf()\n",
    "ss = SparkSession(sc)\n",
    "ss.udf.registerJavaFunction(\"parseUrl\", \"com.github.silentsokolov.App\", t.ArrayType(t.StringType(), True))"
   ]
  },
  {
   "cell_type": "code",
   "execution_count": 3,
   "id": "electric-bread",
   "metadata": {},
   "outputs": [],
   "source": [
    "df = ss.read.csv(['/path/to/data'], sep='\\t')\n",
    "df = df.select(\n",
    "    f.col('_c4')\n",
    ").filter(f.col('_c4').isNotNull()).limit(1000000).cache()\n",
    "df.show()"
   ]
  },
  {
   "cell_type": "code",
   "execution_count": 4,
   "id": "electrical-oxide",
   "metadata": {},
   "outputs": [],
   "source": [
    "from urllib.parse import urlparse\n",
    "\n",
    "@f.udf(t.ArrayType(t.StringType(), True))\n",
    "def parse_py(v):\n",
    "    try:\n",
    "        o = urlparse(v)\n",
    "        return [o.scheme, o.netloc.replace('www.', '', 1), o.path + o.query + o.fragment]\n",
    "    except:\n",
    "        return None"
   ]
  },
  {
   "cell_type": "code",
   "execution_count": 5,
   "id": "damaged-script",
   "metadata": {},
   "outputs": [
    {
     "name": "stdout",
     "output_type": "stream",
     "text": [
      "15.9 s ± 618 ms per loop (mean ± std. dev. of 7 runs, 1 loop each)\n"
     ]
    }
   ],
   "source": [
    "%timeit df.withColumn('v', parse_py(f.col('_c4'))).agg(f.count(f.col('v')[0])).show()"
   ]
  },
  {
   "cell_type": "code",
   "execution_count": 6,
   "id": "decreased-certificate",
   "metadata": {},
   "outputs": [
    {
     "name": "stdout",
     "output_type": "stream",
     "text": [
      "9.16 s ± 408 ms per loop (mean ± std. dev. of 7 runs, 1 loop each)\n"
     ]
    }
   ],
   "source": [
    "%%timeit\n",
    "\n",
    "df.select(\n",
    "    f.expr('parse_url(_c4, \"PROTOCOL\")').alias('scheme'),\n",
    "    f.regexp_replace(\n",
    "        f.expr('parse_url(_c4, \"HOST\")'),\n",
    "        r'^(www\\.)',\n",
    "        ''\n",
    "    ).alias('domain'),\n",
    "    f.when(\n",
    "        f.expr('parse_url(_c4, \"REF\")').isNull(),\n",
    "        f.expr('parse_url(_c4, \"FILE\")')\n",
    "    ).otherwise(\n",
    "        f.concat(\n",
    "            f.expr('parse_url(_c4, \"FILE\")'),\n",
    "            f.lit('#'),\n",
    "            f.expr('parse_url(_c4, \"REF\")')\n",
    "        )\n",
    "    ).alias('path'),\n",
    ").withColumn('v', f.array(f.col('scheme'), f.col('domain'), f.col('path'))).agg(f.count(f.col('v')[0])).show()"
   ]
  },
  {
   "cell_type": "code",
   "execution_count": 7,
   "id": "lesbian-volleyball",
   "metadata": {},
   "outputs": [
    {
     "name": "stdout",
     "output_type": "stream",
     "text": [
      "8.11 s ± 199 ms per loop (mean ± std. dev. of 7 runs, 1 loop each)\n"
     ]
    }
   ],
   "source": [
    "%%timeit\n",
    "\n",
    "df.withColumn('v', f.expr('parseUrl(_c4)')).agg(f.count(f.col('v')[0])).show()"
   ]
  }
 ],
 "metadata": {
  "kernelspec": {
   "display_name": "spark3",
   "language": "python",
   "name": "spark3"
  },
  "language_info": {
   "codemirror_mode": {
    "name": "ipython",
    "version": 3
   },
   "file_extension": ".py",
   "mimetype": "text/x-python",
   "name": "python",
   "nbconvert_exporter": "python",
   "pygments_lexer": "ipython3",
   "version": "3.6.8"
  }
 },
 "nbformat": 4,
 "nbformat_minor": 5
}
